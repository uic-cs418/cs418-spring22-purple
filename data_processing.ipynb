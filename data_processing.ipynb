{
 "cells": [
  {
   "cell_type": "code",
   "execution_count": null,
   "source": [
    "# setup\n",
    "import matplotlib.pyplot as plt\n",
    "import seaborn as sns\n",
    "import pandas as pd\n",
    "import numpy as np\n",
    "\n",
    "gun_data = pd.read_csv('stage3.csv')\n",
    "gun_data.head()"
   ],
   "outputs": [],
   "metadata": {}
  },
  {
   "cell_type": "markdown",
   "source": [
    "# Separating Participants in Gun Violence Data\n",
    "\n",
    "final results of separated participant data found in `gun_violence_participants.csv`"
   ],
   "metadata": {}
  },
  {
   "cell_type": "code",
   "execution_count": null,
   "source": [
    "participants = gun_data[[\"incident_id\",\"participant_age\", \"participant_age_group\", \"participant_gender\", \"participant_name\", \"participant_status\", \"participant_type\"]].copy(deep=True)\n",
    "participants.head()"
   ],
   "outputs": [],
   "metadata": {}
  },
  {
   "cell_type": "code",
   "execution_count": null,
   "source": [
    "#formatting data to eventually get a list of dictionaries (one dictionary per row), where each dictionary represents one entry (row) in our gun violence dataset\n",
    "#the dictionary for the row contains a list of all participants and their ages\n",
    "\n",
    "def get_participant_dictionaries(df_column, age_data = False):\n",
    "    values_split_at_bars = [entry.split(\"||\")  if str(entry) != 'nan' else str(entry) for entry in list(df_column)]\n",
    "\n",
    "    participant_values_dicts = []\n",
    "    for list_of_participants in values_split_at_bars:\n",
    "\n",
    "        if list_of_participants != 'nan':\n",
    "            \n",
    "            participants_dict = dict()\n",
    "\n",
    "            try:\n",
    "                for participant in list_of_participants:\n",
    "                        p_key = 'participant_' + participant.split(\"::\")[0]\n",
    "                        participants_dict[p_key] = participant.split(\"::\")[1]\n",
    "                    \n",
    "                participant_values_dicts.append(participants_dict)\n",
    "\n",
    "            except IndexError:\n",
    "\n",
    "                try:\n",
    "                    for participant in list_of_participants:\n",
    "                        p_key = 'participant_' + participant.split(\":\")[0] #looks like some entries were separated by ':' instead of \"::\"\n",
    "                        participants_dict[p_key] = participant.split(\":\")[1] \n",
    "                    \n",
    "                    participant_values_dicts.append(participants_dict)\n",
    "                \n",
    "                except ValueError:\n",
    "                    list_of_participants = list_of_participants[0].split('|') #reformat to split at | (didn't get split first time around)\n",
    "                    \n",
    "                    for participant in list_of_participants:\n",
    "                        p_key = 'participant_' + participant.split(\":\")[0]\n",
    "                        participants_dict[p_key] = participant.split(\":\")[1] \n",
    "\n",
    "                    participant_values_dicts.append(participants_dict)\n",
    "                    \n",
    "                \n",
    "        else:\n",
    "            participant_values_dicts.append({'participant_0': np.NaN})\n",
    "\n",
    "    #list of participants per gun violence entry + their ages\n",
    "    return participant_values_dicts\n",
    "\n",
    "\n",
    "# Create a dataframe with each participant's incident_id, name, age, age group, gender, status, and type. The incident id will be used in case we want to look up for info about \n",
    "# the gun incident the participant belongs to\n",
    "participants.participant_age = get_participant_dictionaries(participants.participant_age)\n",
    "participants.participant_age_group = get_participant_dictionaries(participants.participant_age_group)\n",
    "participants.participant_gender = get_participant_dictionaries(participants.participant_gender)\n",
    "participants.participant_name = get_participant_dictionaries(participants.participant_name)\n",
    "participants.participant_status = get_participant_dictionaries(participants.participant_status)\n",
    "participants.participant_type = get_participant_dictionaries(participants.participant_type)\n",
    "\n",
    "participants"
   ],
   "outputs": [],
   "metadata": {}
  },
  {
   "cell_type": "code",
   "execution_count": null,
   "source": [
    "#separating participants so each participant gets their own row\n",
    "participants_separated = pd.DataFrame(columns=['id', 'incident_id', 'age', 'age_group', 'gender', 'name', 'status', 'type'])\n",
    "for index, row in participants.iterrows():\n",
    "    print(index)\n",
    "    incident_id = row['incident_id']\n",
    "\n",
    "    ages = row.participant_age\n",
    "    age_groups = row.participant_age_group\n",
    "    genders = row.participant_gender\n",
    "    names = row.participant_name\n",
    "    statuses = row.participant_status\n",
    "    types = row.participant_type\n",
    "\n",
    "    participant_keys = list(types.keys())\n",
    "    for participant_id in participant_keys:\n",
    "        row_identifier = str(incident_id) + '_' + participant_id\n",
    "\n",
    "        participant_row = {'id': row_identifier, \n",
    "                           'incident_id': incident_id, \n",
    "                           'age': ages.get(participant_id, np.NaN), \n",
    "                           'age_group': age_groups.get(participant_id, np.NaN),\n",
    "                           'gender': genders.get(participant_id, np.NaN),\n",
    "                           'name': names.get(participant_id, np.NaN),\n",
    "                           'status': statuses.get(participant_id, np.NaN),\n",
    "                           'type': types.get(participant_id, np.NaN)}\n",
    "\n",
    "        participants_separated.loc[index] = participant_row\n",
    "\n",
    "#display dataframe of separated participants\n",
    "participants_separated"
   ],
   "outputs": [],
   "metadata": {}
  }
 ],
 "metadata": {
  "orig_nbformat": 4,
  "language_info": {
   "name": "python",
   "version": "3.9.7"
  },
  "kernelspec": {
   "name": "python3",
   "display_name": "Python 3.9.7 64-bit ('cs418env': conda)"
  },
  "interpreter": {
   "hash": "87eb1506ace0c76867aaab3383ec0484b429857f88291368ffd3c4acf06de760"
  }
 },
 "nbformat": 4,
 "nbformat_minor": 2
}