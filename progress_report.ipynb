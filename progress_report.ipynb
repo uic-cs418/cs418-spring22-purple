{
 "cells": [
  {
   "cell_type": "code",
   "execution_count": null,
   "source": [
    "#setup"
   ],
   "outputs": [],
   "metadata": {}
  },
  {
   "cell_type": "markdown",
   "source": [
    "# Project Introduction\n",
    "Discuss the data you are analyzing, and the question or questions you are investigating"
   ],
   "metadata": {}
  },
  {
   "cell_type": "code",
   "execution_count": null,
   "source": [],
   "outputs": [],
   "metadata": {}
  },
  {
   "cell_type": "markdown",
   "source": [
    "# Any Changes\n",
    "A discussion whether your scope has changed since the check-in proposal slides. What did you aim to do that you will not do and what have you added to the project?"
   ],
   "metadata": {}
  },
  {
   "cell_type": "code",
   "execution_count": null,
   "source": [],
   "outputs": [],
   "metadata": {}
  },
  {
   "cell_type": "markdown",
   "source": [
    "# Data Cleaning\n",
    "Show clearly how you cleaned your data"
   ],
   "metadata": {}
  },
  {
   "cell_type": "code",
   "execution_count": null,
   "source": [],
   "outputs": [],
   "metadata": {}
  },
  {
   "cell_type": "markdown",
   "source": [
    "# Exploratory Data Analysis\n",
    "Explain what your data looks like (words are fine, but visualizations are often better). Include any interesting issues or preliminary conclusions you have about your data."
   ],
   "metadata": {}
  },
  {
   "cell_type": "code",
   "execution_count": null,
   "source": [],
   "outputs": [],
   "metadata": {}
  },
  {
   "cell_type": "markdown",
   "source": [
    "# At least one visualization that tests an interesting hypothesis\n",
    "Along with an explanation about why you thought this was an interesting hypothesis to investigate"
   ],
   "metadata": {}
  },
  {
   "cell_type": "code",
   "execution_count": null,
   "source": [],
   "outputs": [],
   "metadata": {}
  },
  {
   "cell_type": "markdown",
   "source": [
    "# At least on ML analysis\n",
    "on your dataset, along with a baseline comparison and an interpretation of the result that you obtain. "
   ],
   "metadata": {}
  },
  {
   "cell_type": "code",
   "execution_count": null,
   "source": [],
   "outputs": [],
   "metadata": {}
  },
  {
   "cell_type": "markdown",
   "source": [
    "# Reflection\n",
    "A discussion of the following:\n",
    "- What is the hardest part of the project that you’ve encountered so far?\n",
    "- What are your initial insights?\n",
    "- Are there any concrete results you can show at this point? If not, why not?\n",
    "- Going forward, what are the current biggest problems you’re facing?\n",
    "- Do you think you are on track with your project? If not, what parts do you need to dedicate more time to?\n",
    "- Given your initial exploration of the data, is it worth proceeding with your project, why? If not, how are you going to change your project and why do you think it’s better than your current results?"
   ],
   "metadata": {}
  },
  {
   "cell_type": "code",
   "execution_count": null,
   "source": [],
   "outputs": [],
   "metadata": {}
  },
  {
   "cell_type": "markdown",
   "source": [
    "# Next Steps\n",
    "What you plan to accomplish in the next month and how you plan to evaluate whether your project achieved the goals you set for it. \n",
    "\n",
    "## Deliverables: a PDF of your jupyter notebook, with a link to the notebook located in your repository; Notebook can’t be more than 5 pages"
   ],
   "metadata": {}
  },
  {
   "cell_type": "code",
   "execution_count": null,
   "source": [],
   "outputs": [],
   "metadata": {}
  }
 ],
 "metadata": {
  "orig_nbformat": 4,
  "language_info": {
   "name": "python"
  }
 },
 "nbformat": 4,
 "nbformat_minor": 2
}